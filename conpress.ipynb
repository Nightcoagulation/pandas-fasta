{
 "cells": [
  {
   "cell_type": "code",
   "execution_count": 1,
   "metadata": {},
   "outputs": [
    {
     "name": "stdout",
     "output_type": "stream",
     "text": [
      "压缩后的距离矩阵已保存到 compressed_distance_matrix.txt\n"
     ]
    }
   ],
   "source": [
    "from scipy.spatial.distance import squareform\n",
    "import numpy as np\n",
    "\n",
    "# 读取距离矩阵文件\n",
    "file_path = \"/data/home/liuzw/NR/pdb/structural/distance_matrix.txt\"\n",
    "with open(file_path, \"r\") as file:\n",
    "    lines = file.readlines()\n",
    "\n",
    "# 解析距离矩阵\n",
    "distance_matrix = []\n",
    "for line in lines:\n",
    "    row = [float(val) for val in line.strip().split()]\n",
    "    distance_matrix.append(row)\n",
    "\n",
    "# 将对称矩阵转换为压缩形式\n",
    "compressed_distance_matrix = squareform(distance_matrix)\n",
    "\n",
    "# 保存压缩后的距离矩阵到文件\n",
    "output_file_path = \"compressed_distance_matrix.txt\"\n",
    "np.savetxt(output_file_path, compressed_distance_matrix, fmt='%0.3f')\n",
    "\n",
    "print(f\"压缩后的距离矩阵已保存到 {output_file_path}\")\n"
   ]
  }
 ],
 "metadata": {
  "kernelspec": {
   "display_name": "enzyme",
   "language": "python",
   "name": "python3"
  },
  "language_info": {
   "codemirror_mode": {
    "name": "ipython",
    "version": 3
   },
   "file_extension": ".py",
   "mimetype": "text/x-python",
   "name": "python",
   "nbconvert_exporter": "python",
   "pygments_lexer": "ipython3",
   "version": "3.9.18"
  }
 },
 "nbformat": 4,
 "nbformat_minor": 2
}

{
 "cells": [
  {
   "cell_type": "code",
   "execution_count": 4,
   "metadata": {},
   "outputs": [],
   "source": [
    "from Bio.PDB import PDBParser\n",
    "from Bio.SeqUtils import seq1\n",
    "import subprocess\n",
    "import os\n",
    "from scipy.spatial.distance import squareform\n",
    "\n",
    "def calculate_tm_score(pdb_file1, pdb_file2):\n",
    "    try:\n",
    "        # 解析PDB文件\n",
    "        parser = PDBParser(QUIET=True)\n",
    "        structure1 = parser.get_structure(\"pdb1\", pdb_file1)\n",
    "        structure2 = parser.get_structure(\"pdb2\", pdb_file2)\n",
    "\n",
    "        #提取序列\n",
    "        seq_str1 = \"\"\n",
    "        for model in structure1:\n",
    "            for chain in model:\n",
    "                seq_str1 += ''.join([seq1(residue.get_resname()) for residue in chain.get_residues() if residue.get_id()[0] == ' '])\n",
    "\n",
    "        seq_str2 = \"\"\n",
    "        for model in structure2:\n",
    "            for chain in model:\n",
    "                seq_str2 += ''.join([seq1(residue.get_resname()) for residue in chain.get_residues() if residue.get_id()[0] == ' '])\n",
    "\n",
    "        # 将序列写入临时文件\n",
    "        with open('temp_seq1.fasta', 'w') as f:\n",
    "            f.write(\">seq1\\n\" + seq_str1 + \"\\n\")\n",
    "        with open('temp_seq2.fasta', 'w') as f:\n",
    "            f.write(\">seq2\\n\" + seq_str2 + \"\\n\")    \n",
    "\n",
    "        # 使用TM-align运行TM-score计算\n",
    "        result = subprocess.run([\"TMscore\", pdb_file1, pdb_file2], capture_output=True, text=True)\n",
    "        tm_score = float(result.stdout.split(\"\\n\")[14].split()[-1])  # Extract TM-score\n",
    "        \n",
    "        return tm_score\n",
    "    except Exception as e:\n",
    "        print(f\"Error calculating TM-score for files {pdb_file1} and {pdb_file2}: {e}\")\n",
    "        return None"
   ]
  },
  {
   "cell_type": "code",
   "execution_count": 5,
   "metadata": {},
   "outputs": [
    {
     "name": "stdout",
     "output_type": "stream",
     "text": [
      "结果已保存到 distance_matrix.txt\n"
     ]
    }
   ],
   "source": [
    "# 构建 PDB 文件路径列表\n",
    "pdb_directory = \"/data/home/liuzw/NR/pdb/structural\"\n",
    "pdb_files = [os.path.join(pdb_directory, file) for file in os.listdir(pdb_directory) if file.endswith(\".pdb\")]\n",
    "\n",
    "# 计算 TM-scores 并生成距离矩阵\n",
    "distance_matrix = []\n",
    "for i, pdb_file1 in enumerate(pdb_files):\n",
    "    row = []\n",
    "    for j, pdb_file2 in enumerate(pdb_files):\n",
    "        if i != j:\n",
    "            tm_score = calculate_tm_score(pdb_file1, pdb_file2)\n",
    "            if tm_score is not None:\n",
    "                row.append(tm_score)\n",
    "            else:\n",
    "                row.append(0)  # If an error occurs, set TM-score to 0\n",
    "        else:\n",
    "            row.append(0)  # TM-score between identical structures is 1, but we use 0 for simplicity\n",
    "    distance_matrix.append(row)\n",
    "\n",
    "# 将结果写入文件\n",
    "output_file_path = \"distance_matrix.txt\"\n",
    "with open(output_file_path, \"w\") as output_file:\n",
    "    for row in distance_matrix:\n",
    "        output_file.write(\" \".join(map(str, row)) + \"\\n\")\n",
    "\n",
    "# 将对称矩阵转换为压缩的距离矩阵\n",
    "compressed_distance_matrix = squareform(distance_matrix)\n",
    "\n",
    "\n",
    "print(f\"结果已保存到 {output_file_path}\")\n"
   ]
  }
 ],
 "metadata": {
  "kernelspec": {
   "display_name": "enzyme",
   "language": "python",
   "name": "python3"
  },
  "language_info": {
   "codemirror_mode": {
    "name": "ipython",
    "version": 3
   },
   "file_extension": ".py",
   "mimetype": "text/x-python",
   "name": "python",
   "nbconvert_exporter": "python",
   "pygments_lexer": "ipython3",
   "version": "3.9.18"
  }
 },
 "nbformat": 4,
 "nbformat_minor": 2
}

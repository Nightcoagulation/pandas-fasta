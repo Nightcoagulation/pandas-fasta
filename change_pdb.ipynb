{
 "cells": [
  {
   "cell_type": "code",
   "execution_count": 1,
   "metadata": {},
   "outputs": [
    {
     "name": "stdout",
     "output_type": "stream",
     "text": [
      "Renamed WP_011344472.1.pdb to protein1.pdb\n",
      "Renamed WP_014453230.1.pdb to protein2.pdb\n",
      "Renamed WP_054970054.1.pdb to protein3.pdb\n",
      "Renamed WP_061918867.1.pdb to protein4.pdb\n",
      "Renamed WP_092861363_1.pdb to protein5.pdb\n",
      "Renamed WP_093116331.1.pdb to protein6.pdb\n",
      "Renamed WP_096205132.1.pdb to protein7.pdb\n",
      "Renamed WP_098038064.1.pdb to protein8.pdb\n",
      "Renamed WP_101344898.1.pdb to protein9.pdb\n",
      "Renamed WP_116428622.1.pdb to protein10.pdb\n",
      "Renamed WP_125738250.1.pdb to protein11.pdb\n",
      "Renamed WP_126617529.1.pdb to protein12.pdb\n",
      "Renamed WP_164731002.1.pdb to protein13.pdb\n",
      "Renamed WP_178344402.1.pdb to protein14.pdb\n",
      "Renamed WP_180208912.1.pdb to protein15.pdb\n",
      "Renamed WP_187339407.1.pdb to protein16.pdb\n",
      "Renamed WP_221252291.1.pdb to protein17.pdb\n",
      "Renamed WP_2310030381.1.pdb to protein18.pdb\n",
      "Renamed WP_241078034.1.pdb to protein19.pdb\n",
      "Renamed WP_245835460.1.pdb to protein20.pdb\n",
      "Renamed WP_2458910521.1.pdb to protein21.pdb\n",
      "Renamed WP_252744154.1.pdb to protein22.pdb\n",
      "Renamed WP_2688995111.1.pdb to protein23.pdb\n",
      "Renamed WP_2726375071.1.pdb to protein24.pdb\n",
      "Renamed WP_281486000.1.pdb to protein25.pdb\n",
      "Renamed WP_282994760.1.pdb to protein26.pdb\n",
      "Renamed WP_284285958.1.pdb to protein27.pdb\n",
      "Renamed WP_291493150.1.pdb to protein28.pdb\n",
      "Renamed WP_2934423951.1.pdb to protein29.pdb\n",
      "Renamed WP_297026998.1.pdb to protein30.pdb\n",
      "Renamed WP_302049109.1.pdb to protein31.pdb\n",
      "Renamed change_pdb.ipynb to protein32.pdb\n"
     ]
    }
   ],
   "source": [
    "import os\n",
    "\n",
    "# 获取当前目录下所有文件名\n",
    "files = os.listdir()\n",
    "\n",
    "# 过滤出所有的文件（排除文件夹）\n",
    "files = [f for f in files if os.path.isfile(f)]\n",
    "\n",
    "# 对文件进行排序\n",
    "files.sort()\n",
    "\n",
    "# 重命名文件为protein1.pdb, protein2.pdb, ...\n",
    "for i, file in enumerate(files):\n",
    "    new_name = \"protein{}.pdb\".format(i+1)\n",
    "    os.rename(file, new_name)\n",
    "    print(\"Renamed {} to {}\".format(file, new_name))\n"
   ]
  }
 ],
 "metadata": {
  "kernelspec": {
   "display_name": "enzyme",
   "language": "python",
   "name": "python3"
  },
  "language_info": {
   "codemirror_mode": {
    "name": "ipython",
    "version": 3
   },
   "file_extension": ".py",
   "mimetype": "text/x-python",
   "name": "python",
   "nbconvert_exporter": "python",
   "pygments_lexer": "ipython3",
   "version": "3.9.18"
  }
 },
 "nbformat": 4,
 "nbformat_minor": 2
}

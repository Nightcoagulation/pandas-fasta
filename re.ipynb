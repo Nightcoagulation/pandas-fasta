{
 "cells": [
  {
   "cell_type": "code",
   "execution_count": 1,
   "metadata": {},
   "outputs": [],
   "source": [
    "import pandas as pd"
   ]
  },
  {
   "cell_type": "code",
   "execution_count": 12,
   "metadata": {},
   "outputs": [],
   "source": [
    "# 读取Excel\n",
    "excel_file = '/data/home/liuzw/NR/pdb/structural/representative/41586_2023_6356_MOESM3_ESM.xlsx' \n",
    "df = pd.read_excel(excel_file, usecols=['contig accesison', 'protein sequence'])"
   ]
  },
  {
   "cell_type": "code",
   "execution_count": 15,
   "metadata": {},
   "outputs": [
    {
     "name": "stdout",
     "output_type": "stream",
     "text": [
      "    contig accesison                                   protein sequence\n",
      "0  JABXJV010000359.1  MAINKKRKKKTKKLMICLSLRISTTDINFQKIDSLRMEFRRVYNEF...\n",
      "1  JABXJV010000431.1  MREFGSVYNQYLEHWSKSGRYSKTFLEKHQIKANILANNRQCSRDV...\n",
      "2     MSDW01000002.1  MTDKLVRTVCLKLHPDKPHLLDELRKNFRETWNQYINHIKELGTTN...\n",
      "3  JAGGRR010000020.1  MELAAIKTVIGKLVIEEGNSAKIDEALLESRRIFNEVLVKLLSGEG...\n",
      "4  NZ_FTNR01000016.1  MAHTEGYRLTYNDEDDRVAFRVSPKPYKKVKGHLRGRPEDLALIES...\n",
      "5  NZ_AOLW01000015.1  MTDSQALVKTLDFQLDIQSDNESLLYDATLEARSVYNETIRLAKQG...\n"
     ]
    }
   ],
   "source": [
    "# 打开文件用于写入\n",
    "output_file = '/data/home/liuzw/NR/pdb/structural/representative/FZ_protein.txt'  \n",
    "with open(output_file, 'w') as f:\n",
    "    # 循环遍历每一行\n",
    "    for index, row in df.iterrows():\n",
    "        # contig accesison\n",
    "        f.write('>' + str(row['contig accesison']) + '\\n')\n",
    "        # protein sequence\n",
    "        f.write(str(row['protein sequence']) + '\\n')\n",
    "\n",
    "print(df.head(6))"
   ]
  }
 ],
 "metadata": {
  "kernelspec": {
   "display_name": "enzyme",
   "language": "python",
   "name": "python3"
  },
  "language_info": {
   "codemirror_mode": {
    "name": "ipython",
    "version": 3
   },
   "file_extension": ".py",
   "mimetype": "text/x-python",
   "name": "python",
   "nbconvert_exporter": "python",
   "pygments_lexer": "ipython3",
   "version": "3.9.18"
  }
 },
 "nbformat": 4,
 "nbformat_minor": 2
}

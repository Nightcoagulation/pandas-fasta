{
 "cells": [
  {
   "cell_type": "code",
   "execution_count": 3,
   "metadata": {},
   "outputs": [
    {
     "name": "stdout",
     "output_type": "stream",
     "text": [
      "提取并写入完成。\n"
     ]
    }
   ],
   "source": [
    "import os\n",
    "\n",
    "# 获取当前目录下所有文件的文件名\n",
    "files = os.listdir()\n",
    "\n",
    "# 定义一个空列表，用于存储提取后的文件名\n",
    "cleaned_filenames = []\n",
    "\n",
    "# 循环遍历所有文件名\n",
    "for filename in files:\n",
    "    # 提取文件名中的部分并加上'.1'\n",
    "    cleaned_filename = filename.split('.')[0] + '.1'\n",
    "    # 添加到清理后的文件名列表中\n",
    "    cleaned_filenames.append(cleaned_filename)\n",
    "\n",
    "# 将结果写入.txt文件\n",
    "with open('cleaned_filenames.txt', 'w') as file:\n",
    "    for cleaned_filename in cleaned_filenames:\n",
    "        file.write(cleaned_filename + '\\n')\n",
    "\n",
    "print(\"提取并写入完成。\")\n",
    "\n"
   ]
  }
 ],
 "metadata": {
  "kernelspec": {
   "display_name": "enzyme",
   "language": "python",
   "name": "python3"
  },
  "language_info": {
   "codemirror_mode": {
    "name": "ipython",
    "version": 3
   },
   "file_extension": ".py",
   "mimetype": "text/x-python",
   "name": "python",
   "nbconvert_exporter": "python",
   "pygments_lexer": "ipython3",
   "version": "3.9.18"
  }
 },
 "nbformat": 4,
 "nbformat_minor": 2
}
